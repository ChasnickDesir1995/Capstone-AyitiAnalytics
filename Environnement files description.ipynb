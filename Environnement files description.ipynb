{
 "cells": [
  {
   "cell_type": "code",
   "execution_count": 2,
   "id": "a055b133",
   "metadata": {},
   "outputs": [
    {
     "ename": "SyntaxError",
     "evalue": "invalid syntax (<ipython-input-2-04f3c19f0687>, line 37)",
     "output_type": "error",
     "traceback": [
      "\u001b[1;36m  File \u001b[1;32m\"<ipython-input-2-04f3c19f0687>\"\u001b[1;36m, line \u001b[1;32m37\u001b[0m\n\u001b[1;33m    2021 GitHub, Inc.\u001b[0m\n\u001b[1;37m         ^\u001b[0m\n\u001b[1;31mSyntaxError\u001b[0m\u001b[1;31m:\u001b[0m invalid syntax\n"
     ]
    }
   ],
   "source": [
    "import os\n",
    "from setuptools import setup\n",
    "from distutils.core import Command\n",
    "\n",
    "\n",
    "setup(\n",
    "    name='cpi',\n",
    "    version='0.1.16',\n",
    "    description=\"FORECAST OF THE INFLATION IN HAITI FROM June 2020 TO December 2020\",\n",
    "    author='Chasnick Desir',\n",
    "    author_email='chasnickdesir@gmail.com',\n",
    "    url='https://github.com/ChasnickDesir1995/Capstone-AyitiAnalytics.git',\n",
    "    license=\"MIT\",\n",
    "    packages=(\"cpi\",),\n",
    "    include_package_data=True,\n",
    "    zip_safe=False,  # because we're including static files\n",
    "    install_requires=(\n",
    "        \"requests>=2.20.0\",\n",
    "        \"click>=6.7\",\n",
    "        \"python-dateutil>=2.7.3\",\n",
    "        \"pandas>=0.23.1\",\n",
    "    ),\n",
    "    entry_points=\"\"\"\n",
    "        [console_scripts]\n",
    "        inflate=cpi.cli:inflate\n",
    "    \"\"\",\n",
    "    classifiers=[\n",
    "        'Development Status :: 5 - Production/Stable',\n",
    "        'Programming Language :: Python',\n",
    "        'Programming Language :: Python :: 2.7',\n",
    "        'Programming Language :: Python :: 3.5',\n",
    "        'Programming Language :: Python :: 3.6',\n",
    "        'Programming Language :: Python :: 3.7',\n",
    "        'License :: OSI Approved :: MIT License',\n",
    "    ],\n",
    ")\n",
    "© 2021 GitHub, Inc.\n",
    "Terms\n",
    "Privacy\n",
    "Se"
   ]
  },
  {
   "cell_type": "code",
   "execution_count": null,
   "id": "2de20eb2",
   "metadata": {},
   "outputs": [],
   "source": []
  }
 ],
 "metadata": {
  "kernelspec": {
   "display_name": "Python 3",
   "language": "python",
   "name": "python3"
  },
  "language_info": {
   "codemirror_mode": {
    "name": "ipython",
    "version": 3
   },
   "file_extension": ".py",
   "mimetype": "text/x-python",
   "name": "python",
   "nbconvert_exporter": "python",
   "pygments_lexer": "ipython3",
   "version": "3.8.8"
  }
 },
 "nbformat": 4,
 "nbformat_minor": 5
}
